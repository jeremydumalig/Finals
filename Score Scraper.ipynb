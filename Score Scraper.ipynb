{
 "cells": [
  {
   "cell_type": "code",
   "execution_count": 1,
   "metadata": {},
   "outputs": [],
   "source": [
    "from selenium import webdriver\n",
    "from webdriver_manager.chrome import ChromeDriverManager\n",
    "from selenium.webdriver.common.by import By\n",
    "from selenium.webdriver.support.ui import WebDriverWait\n",
    "from selenium.webdriver.support import expected_conditions as EC\n",
    "from bs4 import BeautifulSoup\n",
    "import pandas as pd\n",
    "import numpy as np\n",
    "import time"
   ]
  },
  {
   "cell_type": "code",
   "execution_count": 2,
   "metadata": {},
   "outputs": [],
   "source": [
    "def time_to_seconds(time):\n",
    "    if ':' in time:\n",
    "        time = [float(i) for i in time.split(\":\")]\n",
    "        return time[0]*60 + time[1]\n",
    "    else:\n",
    "        return float(time)"
   ]
  },
  {
   "cell_type": "code",
   "execution_count": 3,
   "metadata": {},
   "outputs": [],
   "source": [
    "def soup_scores(soup):\n",
    "    rows = soup.find_all('article', {'class' : 'md:mb-1'})\n",
    "    quarter = 1\n",
    "    scores = []\n",
    "    quarters = []\n",
    "    times = []\n",
    "    clocks = []\n",
    "\n",
    "    for x in np.arange(len(rows)):\n",
    "        clock = rows[x].find('span', {'class' : 'block'}).text\n",
    "        game_time = 12*60*4 - (12*60 - time_to_seconds(clock)) - (quarter - 1)*12*60\n",
    "        \n",
    "        action = rows[x].find('span', {'class' : 'capitalize'}).text\n",
    "\n",
    "        if (len(times) > 0) and (game_time > times[-1]):\n",
    "            quarter += 1\n",
    "            \n",
    "        try:\n",
    "            score = rows[x].find('span', {'class' : \"block font-bold\"}).text\n",
    "        except:\n",
    "            if len(scores) == 0:\n",
    "                score = \"0 - 0\"\n",
    "            else:\n",
    "                score = scores[-1]\n",
    "            \n",
    "        scores.append(score)\n",
    "        quarters.append(quarter)\n",
    "        times.append(game_time)\n",
    "        clocks.append(clock)\n",
    "\n",
    "    return [scores, quarters, times, clocks]"
   ]
  },
  {
   "cell_type": "code",
   "execution_count": 4,
   "metadata": {},
   "outputs": [],
   "source": [
    "def final_score(df, team):\n",
    "    df.loc[len(df)] = [df.SCORE.values[-1],\n",
    "                       df.Quarter.values[-1],\n",
    "                       0,\n",
    "                       \"0:00\",\n",
    "                       team,\n",
    "                       df[df.Team == team].Score.values[-1]]"
   ]
  },
  {
   "cell_type": "code",
   "execution_count": 5,
   "metadata": {},
   "outputs": [],
   "source": [
    "def score_scraper(url, file):\n",
    "    driver = webdriver.Chrome(ChromeDriverManager().install())\n",
    "    driver.get(url)\n",
    "    time.sleep(2)\n",
    "    \n",
    "    # Accept all cookies in NBA.com if applicable\n",
    "    WebDriverWait(driver, 10).until(\n",
    "        EC.element_to_be_clickable((By.XPATH,'//*[@id=\"onetrust-accept-btn-handler\"]'))).click()\n",
    "    \n",
    "    soup = BeautifulSoup(driver.page_source, 'html.parser')\n",
    "    driver.quit()\n",
    "    \n",
    "    data = soup_scores(soup)\n",
    "    score = pd.DataFrame({\n",
    "        'SCORE': data[0],\n",
    "        'Quarter': data[1],\n",
    "        'Time': data[2],\n",
    "        'Clock': data[3]\n",
    "    })\n",
    "\n",
    "    away = score.copy()\n",
    "    away['Team'] = 'Away'\n",
    "    away['Score'] = away.SCORE.apply(lambda s : s.split(\" - \")[0])\n",
    "\n",
    "    home = score.copy()\n",
    "    home['Team'] = 'Home'\n",
    "    home['Score'] = home.SCORE.apply(lambda s : s.split(\" - \")[1])\n",
    "    \n",
    "    game = pd.concat([away, home]).sort_index()\n",
    "    for x in range(10):\n",
    "        final_score(game, 'Home')\n",
    "        final_score(game, 'Away')\n",
    "    game.index = sorted(list(range(int(len(game)/2))) + list(range(int(len(game)/2))))\n",
    "    \n",
    "    game.to_csv(file)\n",
    "    \n",
    "    return game"
   ]
  },
  {
   "cell_type": "code",
   "execution_count": null,
   "metadata": {},
   "outputs": [
    {
     "name": "stdout",
     "output_type": "stream",
     "text": [
      "\n"
     ]
    },
    {
     "name": "stderr",
     "output_type": "stream",
     "text": [
      "[WDM] - ====== WebDriver manager ======\n",
      "[WDM] - Current google-chrome version is 105.0.5195\n",
      "[WDM] - Get LATEST chromedriver version for 105.0.5195 google-chrome\n",
      "[WDM] - There is no [mac64] chromedriver for browser 105.0.5195 in cache\n",
      "[WDM] - About to download new driver from https://chromedriver.storage.googleapis.com/105.0.5195.52/chromedriver_mac64.zip\n",
      "[WDM] - Driver has been saved in cache [/Users/jeremydumalig/.wdm/drivers/chromedriver/mac64/105.0.5195.52]\n",
      "/var/folders/91/7lxj2xq13852sql471wdl0pw0000gn/T/ipykernel_85954/2414762257.py:2: DeprecationWarning: executable_path has been deprecated, please pass in a Service object\n",
      "  driver = webdriver.Chrome(ChromeDriverManager().install())\n"
     ]
    }
   ],
   "source": [
    "# game = score_scraper(\"https://www.nba.com/game/bos-vs-gsw-0042100401/play-by-play?period=All\", \"finals1.csv\")\n",
    "# game = score_scraper(\"https://www.nba.com/game/bos-vs-gsw-0042100402/play-by-play?period=All\", \"finals2.csv\")\n",
    "# game = score_scraper(\"https://www.nba.com/game/bos-vs-gsw-0042100403/play-by-play?period=All\", \"finals3.csv\")\n",
    "# game = score_scraper(\"https://www.nba.com/game/bos-vs-gsw-0042100404/play-by-play?period=All\", \"finals4.csv\")\n",
    "# game = score_scraper(\"https://www.nba.com/game/bos-vs-gsw-0042100405/play-by-play?period=All\", \"finals5.csv\")\n",
    "game = score_scraper(\"https://www.nba.com/game/gsw-vs-bos-0042100406/play-by-play?period=All\", \"finals6.csv\")"
   ]
  },
  {
   "cell_type": "code",
   "execution_count": 7,
   "metadata": {},
   "outputs": [
    {
     "ename": "NameError",
     "evalue": "name 'game' is not defined",
     "output_type": "error",
     "traceback": [
      "\u001b[0;31m---------------------------------------------------------------------------\u001b[0m",
      "\u001b[0;31mNameError\u001b[0m                                 Traceback (most recent call last)",
      "\u001b[0;32m<ipython-input-7-2503e150a98f>\u001b[0m in \u001b[0;36m<module>\u001b[0;34m\u001b[0m\n\u001b[0;32m----> 1\u001b[0;31m \u001b[0mgame\u001b[0m\u001b[0;34m[\u001b[0m\u001b[0;34m'TIME'\u001b[0m\u001b[0;34m]\u001b[0m \u001b[0;34m=\u001b[0m \u001b[0;36m2880\u001b[0m \u001b[0;34m-\u001b[0m \u001b[0mgame\u001b[0m\u001b[0;34m.\u001b[0m\u001b[0mTime\u001b[0m\u001b[0;34m\u001b[0m\u001b[0;34m\u001b[0m\u001b[0m\n\u001b[0m\u001b[1;32m      2\u001b[0m \u001b[0mgame\u001b[0m\u001b[0;34m[\u001b[0m\u001b[0;34m'Lead'\u001b[0m\u001b[0;34m]\u001b[0m \u001b[0;34m=\u001b[0m \u001b[0mgame\u001b[0m\u001b[0;34m.\u001b[0m\u001b[0mSCORE\u001b[0m\u001b[0;34m.\u001b[0m\u001b[0mapply\u001b[0m\u001b[0;34m(\u001b[0m\u001b[0;32mlambda\u001b[0m \u001b[0ms\u001b[0m \u001b[0;34m:\u001b[0m \u001b[0mint\u001b[0m\u001b[0;34m(\u001b[0m\u001b[0ms\u001b[0m\u001b[0;34m.\u001b[0m\u001b[0msplit\u001b[0m\u001b[0;34m(\u001b[0m\u001b[0;34m\" - \"\u001b[0m\u001b[0;34m)\u001b[0m\u001b[0;34m[\u001b[0m\u001b[0;36m0\u001b[0m\u001b[0;34m]\u001b[0m\u001b[0;34m)\u001b[0m \u001b[0;34m-\u001b[0m \u001b[0mint\u001b[0m\u001b[0;34m(\u001b[0m\u001b[0ms\u001b[0m\u001b[0;34m.\u001b[0m\u001b[0msplit\u001b[0m\u001b[0;34m(\u001b[0m\u001b[0;34m\" - \"\u001b[0m\u001b[0;34m)\u001b[0m\u001b[0;34m[\u001b[0m\u001b[0;36m1\u001b[0m\u001b[0;34m]\u001b[0m\u001b[0;34m)\u001b[0m\u001b[0;34m)\u001b[0m\u001b[0;34m\u001b[0m\u001b[0;34m\u001b[0m\u001b[0m\n\u001b[1;32m      3\u001b[0m \u001b[0mgame\u001b[0m\u001b[0;34m[\u001b[0m\u001b[0;34m'Team'\u001b[0m\u001b[0;34m]\u001b[0m \u001b[0;34m=\u001b[0m \u001b[0mgame\u001b[0m\u001b[0;34m.\u001b[0m\u001b[0mLead\u001b[0m \u001b[0;34m>\u001b[0m \u001b[0;36m0\u001b[0m\u001b[0;34m\u001b[0m\u001b[0;34m\u001b[0m\u001b[0m\n\u001b[1;32m      4\u001b[0m \u001b[0;34m\u001b[0m\u001b[0m\n\u001b[1;32m      5\u001b[0m \u001b[0mgame\u001b[0m \u001b[0;34m=\u001b[0m \u001b[0mgame\u001b[0m\u001b[0;34m.\u001b[0m\u001b[0mreset_index\u001b[0m\u001b[0;34m(\u001b[0m\u001b[0mdrop\u001b[0m\u001b[0;34m=\u001b[0m\u001b[0;32mFalse\u001b[0m\u001b[0;34m)\u001b[0m\u001b[0;34m.\u001b[0m\u001b[0mdrop_duplicates\u001b[0m\u001b[0;34m(\u001b[0m\u001b[0msubset\u001b[0m\u001b[0;34m=\u001b[0m\u001b[0;34m[\u001b[0m\u001b[0;34m'index'\u001b[0m\u001b[0;34m]\u001b[0m\u001b[0;34m)\u001b[0m\u001b[0;34m\u001b[0m\u001b[0;34m\u001b[0m\u001b[0m\n",
      "\u001b[0;31mNameError\u001b[0m: name 'game' is not defined"
     ]
    }
   ],
   "source": [
    "game['TIME'] = 2880 - game.Time\n",
    "game['Lead'] = game.SCORE.apply(lambda s : int(s.split(\" - \")[0]) - int(s.split(\" - \")[1]))\n",
    "game['Team'] = game.Lead > 0\n",
    "\n",
    "game = game.reset_index(drop=False).drop_duplicates(subset=['index'])\n",
    "game = game.iloc[0:(len(game) - 9)]\n",
    "game.to_csv(\"lead.csv\")"
   ]
  },
  {
   "cell_type": "code",
   "execution_count": null,
   "metadata": {},
   "outputs": [],
   "source": []
  }
 ],
 "metadata": {
  "kernelspec": {
   "display_name": "Python 3",
   "language": "python",
   "name": "python3"
  },
  "language_info": {
   "codemirror_mode": {
    "name": "ipython",
    "version": 3
   },
   "file_extension": ".py",
   "mimetype": "text/x-python",
   "name": "python",
   "nbconvert_exporter": "python",
   "pygments_lexer": "ipython3",
   "version": "3.9.13"
  }
 },
 "nbformat": 4,
 "nbformat_minor": 4
}
