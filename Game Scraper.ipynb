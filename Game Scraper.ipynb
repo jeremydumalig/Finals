{
 "cells": [
  {
   "cell_type": "code",
   "execution_count": 30,
   "metadata": {},
   "outputs": [],
   "source": [
    "from selenium import webdriver\n",
    "from webdriver_manager.chrome import ChromeDriverManager\n",
    "from selenium.webdriver.common.by import By\n",
    "from selenium.webdriver.support.ui import WebDriverWait\n",
    "from selenium.webdriver.support import expected_conditions as EC\n",
    "from bs4 import BeautifulSoup\n",
    "from functools import reduce\n",
    "import pandas as pd\n",
    "import numpy as np\n",
    "import time\n",
    "\n",
    "pd.options.mode.chained_assignment = None\n",
    "pd.set_option('display.max_columns', None)"
   ]
  },
  {
   "cell_type": "code",
   "execution_count": 31,
   "metadata": {},
   "outputs": [],
   "source": [
    "def time_to_seconds(time):\n",
    "    if ':' in time:\n",
    "        time = [float(i) for i in time.split(\":\")]\n",
    "        return time[0]*60 + time[1]\n",
    "    else:\n",
    "        return float(time)"
   ]
  },
  {
   "cell_type": "code",
   "execution_count": 32,
   "metadata": {},
   "outputs": [],
   "source": [
    "def filter_player(player_list):\n",
    "    if player_list[0] == 'K.' and player_list[1] == \"Thompson\":\n",
    "        return [\"Klay Thompson\"]\n",
    "    elif player_list[0] == 'T.' and player_list[1] == \"Thompson\":\n",
    "        return [\"Tristan Thompson\"]\n",
    "    else:\n",
    "        for i in player_list:\n",
    "            if (\".\" in i) or any(pos in i for pos in ['PG', 'SG', 'SF', 'PF', 'C']):\n",
    "                player_list.remove(i)\n",
    "\n",
    "        return player_list\n",
    "\n",
    "def roster_from_soup(soup, home=False, away=False):\n",
    "    index = 0\n",
    "    if home:\n",
    "        index = 1\n",
    "    \n",
    "    roster = soup.find_all('table', {'class' : 'Table Table--align-right Table--fixed Table--fixed-left'})[index]\n",
    "    roster = [i.text.split(\" \") for i in roster.find_all('tr', {'class' : 'Table__TR'})]\n",
    "    roster = [i for i in roster if len(i) > 1]\n",
    "    roster = [filter_player(i)[0] for i in roster]\n",
    "    \n",
    "    # outlier\n",
    "    if len([i for i in roster if i in ['Embiid', 'Maxey', 'Thybulle']]) > 0:\n",
    "        roster.remove(\"Curry\")\n",
    "        roster.remove(\"Green\")\n",
    "        roster.append(\"Seth Curry\")\n",
    "        roster.append(\"Danny Green\")\n",
    "    \n",
    "    return roster    "
   ]
  },
  {
   "cell_type": "code",
   "execution_count": 33,
   "metadata": {},
   "outputs": [],
   "source": [
    "def rosters_from_box(driver, box_link):\n",
    "    driver.get(box_link)\n",
    "    soup = BeautifulSoup(driver.page_source, 'html.parser')\n",
    "    \n",
    "    away_roster = roster_from_soup(soup, away=True)\n",
    "    home_roster = roster_from_soup(soup, home=True)\n",
    "    \n",
    "    return (away_roster, home_roster)"
   ]
  },
  {
   "cell_type": "code",
   "execution_count": 34,
   "metadata": {},
   "outputs": [],
   "source": [
    "def player_status(df, name):\n",
    "    df[name] = np.where((df.team == df.action_team) & (df.action.str.contains(name)), 1, 0)\n",
    "    return df"
   ]
  },
  {
   "cell_type": "code",
   "execution_count": 35,
   "metadata": {},
   "outputs": [],
   "source": [
    "def quarter_scraper(driver, q, rosters):\n",
    "    soup = BeautifulSoup(driver.page_source, 'html.parser')\n",
    "    rows = soup.find_all('tr', {'class' : 'playByPlay__tableRow'})\n",
    "\n",
    "    quarter = 1\n",
    "    clocks, game_times, actions, action_teams, aways, homes = ([] for i in range(6))\n",
    "\n",
    "    for row in rows:\n",
    "        # clock\n",
    "        clock = row.find('td', {'class' : 'playByPlay__time'}).text\n",
    "\n",
    "        # game_time\n",
    "        if \"OT\" in q:\n",
    "            num_ot = q[0]\n",
    "            game_time = 12*60*4 + (5*60 - time_to_seconds(clock)) + 5*60*(int(q[0])-1)\n",
    "        else:\n",
    "            game_time = 12*60 - time_to_seconds(clock) + 12*60*(int(q)-1)\n",
    "\n",
    "        # action\n",
    "        action = row.find('td', {'class' : 'playByPlay__text'}).text\n",
    "\n",
    "        # action_team\n",
    "        action_team = 'Home'\n",
    "        if any(i in action for i in rosters[0]):\n",
    "            action_team = 'Away'\n",
    "        \n",
    "        # away\n",
    "        away = row.find('td', {'class' : 'playByPlay__score--away'}).text\n",
    "\n",
    "        # home\n",
    "        home = row.find('td', {'class' : 'playByPlay__score--home'}).text\n",
    "\n",
    "        clocks.append(clock)\n",
    "        game_times.append(game_time)\n",
    "        actions.append(action)\n",
    "        action_teams.append(action_team)\n",
    "        aways.append(away)\n",
    "        homes.append(home)\n",
    "\n",
    "    game = pd.DataFrame(list(zip(clocks, game_times, [q] * len(rows), actions, action_teams, aways, homes)),\n",
    "                       columns = ['clock', 'game_time', 'quarter', 'action', 'action_team', 'away', 'home'])\n",
    "\n",
    "    return game"
   ]
  },
  {
   "cell_type": "code",
   "execution_count": 36,
   "metadata": {},
   "outputs": [],
   "source": [
    "def ot_scraper(d, df, rosters):\n",
    "    for path in [\"//body/div[@id='espnfitt']/div[@id='DataWrapper']/div[@id='fitt-analytics']/div[1]/div[4]/div[2]/div[1]/div[5]/div[1]/div[1]/section[2]/div[1]/nav[1]/ul[1]/li[5]/button[1]\", \n",
    "                 \"//button[contains(text(),'2 OT')]\", \n",
    "                 \"//button[contains(text(),'3 OT')]\", \n",
    "                 \"//button[contains(text(),'4 OT')]\"]:\n",
    "        try:\n",
    "            d.find_element(By.XPATH, path).click()\n",
    "            df = pd.concat([df, quarter_scraper(d, \"OT\", rosters)])\n",
    "        except:\n",
    "            pass"
   ]
  },
  {
   "cell_type": "code",
   "execution_count": 37,
   "metadata": {},
   "outputs": [],
   "source": [
    "def game_scraper(d, url, rosters, home_away):\n",
    "    d.get(url)\n",
    "    time.sleep(1)\n",
    "    soup = BeautifulSoup(d.page_source, 'html.parser')\n",
    "    rows = soup.find_all('tr', {'class' : 'playByPlay__tableRow'})\n",
    "    \n",
    "    df = pd.DataFrame()\n",
    "\n",
    "    for q in ['1st', '2nd', '3rd', '4th']:\n",
    "        d.find_element(By.XPATH, \"//button[contains(text(),'\" + q + \"')]\").click()\n",
    "        df = pd.concat([df, quarter_scraper(d, q[0], rosters)])\n",
    "        \n",
    "    ot_scraper(d, df, rosters)\n",
    "    \n",
    "    if home_away == 'vs':\n",
    "        df['team'] = 'Home'\n",
    "        \n",
    "        for player in rosters[1]:\n",
    "            df = player_status(df, player)\n",
    "    else:\n",
    "        df['team'] = 'Away'\n",
    "        \n",
    "        for player in rosters[0]:\n",
    "            df = player_status(df, player)\n",
    "\n",
    "    return df"
   ]
  },
  {
   "cell_type": "code",
   "execution_count": 38,
   "metadata": {},
   "outputs": [],
   "source": [
    "def link_scraper(driver, link, home_away):\n",
    "    pbp_link = \"/playbyplay/\".join(link.split(\"/game/\"))\n",
    "    box_link = \"/boxscore/\".join(link.split(\"/game/\"))\n",
    "    rosters = rosters_from_box(driver, box_link)\n",
    "\n",
    "    return game_scraper(driver, pbp_link, rosters, home_away)"
   ]
  },
  {
   "cell_type": "code",
   "execution_count": 39,
   "metadata": {},
   "outputs": [],
   "source": [
    "def season_scraper(url):\n",
    "    driver = webdriver.Chrome(ChromeDriverManager().install())\n",
    "    driver.get(url)\n",
    "    time.sleep(2)\n",
    "    soup = BeautifulSoup(driver.page_source, 'html.parser')\n",
    "\n",
    "    game_links = soup.find_all('tr', {'class' : 'Table__TR'})[1:]\n",
    "    link_status = [(g.find('span', {'class' : 'ml4'}).find('a')['href'], # game_link and home/away status\n",
    "                    g.find('span', {'class' : 'pr2'}).text) for g in game_links if (\"Postponed\" not in g.text)]\n",
    "    season_logs = [link_scraper(driver, i[0], i[1]) for i in link_status]\n",
    "    \n",
    "    driver.quit()\n",
    "\n",
    "    return season_logs"
   ]
  },
  {
   "cell_type": "code",
   "execution_count": 40,
   "metadata": {},
   "outputs": [],
   "source": [
    "def game_index(df, index):\n",
    "    df['Game'] = index\n",
    "    return df"
   ]
  },
  {
   "cell_type": "code",
   "execution_count": 41,
   "metadata": {
    "scrolled": true
   },
   "outputs": [],
   "source": [
    "# gsw = season_scraper(\"https://www.espn.com/nba/team/schedule/_/name/gs/seasontype/2\")\n",
    "\n",
    "# gsw = [game_index(g, i+1) for i, g in enumerate(gsw)]\n",
    "# warriors = reduce(lambda left, right: pd.merge(left, right, how='outer'), gsw)\n",
    "# warriors = warriors.fillna(0)\n",
    "# warriors.rename(columns={'Klay Thompson':'Thompson'}, inplace=True)\n",
    "\n",
    "# warriors.to_csv(\"warriors.csv\")"
   ]
  },
  {
   "cell_type": "code",
   "execution_count": 45,
   "metadata": {},
   "outputs": [],
   "source": [
    "warriors = pd.read_csv(\"warriors.csv\").iloc[:, 1:]"
   ]
  },
  {
   "cell_type": "code",
   "execution_count": 43,
   "metadata": {},
   "outputs": [
    {
     "data": {
      "text/html": [
       "<div>\n",
       "<style scoped>\n",
       "    .dataframe tbody tr th:only-of-type {\n",
       "        vertical-align: middle;\n",
       "    }\n",
       "\n",
       "    .dataframe tbody tr th {\n",
       "        vertical-align: top;\n",
       "    }\n",
       "\n",
       "    .dataframe thead th {\n",
       "        text-align: right;\n",
       "    }\n",
       "</style>\n",
       "<table border=\"1\" class=\"dataframe\">\n",
       "  <thead>\n",
       "    <tr style=\"text-align: right;\">\n",
       "      <th></th>\n",
       "      <th>Duo</th>\n",
       "      <th>Count</th>\n",
       "    </tr>\n",
       "  </thead>\n",
       "  <tbody>\n",
       "    <tr>\n",
       "      <th>0</th>\n",
       "      <td>Draymond Green to Andrew Wiggins</td>\n",
       "      <td>68</td>\n",
       "    </tr>\n",
       "    <tr>\n",
       "      <th>1</th>\n",
       "      <td>Jordan Poole to Andrew Wiggins</td>\n",
       "      <td>65</td>\n",
       "    </tr>\n",
       "    <tr>\n",
       "      <th>2</th>\n",
       "      <td>Draymond Green to Stephen Curry</td>\n",
       "      <td>63</td>\n",
       "    </tr>\n",
       "    <tr>\n",
       "      <th>3</th>\n",
       "      <td>Draymond Green to Jordan Poole</td>\n",
       "      <td>55</td>\n",
       "    </tr>\n",
       "    <tr>\n",
       "      <th>4</th>\n",
       "      <td>Stephen Curry to Kevon Looney</td>\n",
       "      <td>54</td>\n",
       "    </tr>\n",
       "  </tbody>\n",
       "</table>\n",
       "</div>"
      ],
      "text/plain": [
       "                                Duo  Count\n",
       "0  Draymond Green to Andrew Wiggins     68\n",
       "1    Jordan Poole to Andrew Wiggins     65\n",
       "2   Draymond Green to Stephen Curry     63\n",
       "3    Draymond Green to Jordan Poole     55\n",
       "4     Stephen Curry to Kevon Looney     54"
      ]
     },
     "execution_count": 43,
     "metadata": {},
     "output_type": "execute_result"
    }
   ],
   "source": [
    "warriors_ast = warriors[(warriors.action.str.contains(\"assists\")) & (warriors.team == warriors.action_team)]\n",
    "warriors_ast['Assister'] = warriors_ast.action.apply(lambda a : a.split(\"(\")[1].split(\" assists\")[0])\n",
    "warriors_ast['Assisted'] = warriors_ast.action.apply(lambda a : a.split(\" makes\")[0])\n",
    "warriors_ast['Duo'] = warriors_ast.Assister + \" to \" + warriors_ast.Assisted\n",
    "\n",
    "duos = pd.DataFrame(warriors_ast.Duo.value_counts()).reset_index()\n",
    "duos.columns = ['Duo', 'Count']\n",
    "\n",
    "duos.head(5)"
   ]
  },
  {
   "cell_type": "code",
   "execution_count": null,
   "metadata": {},
   "outputs": [],
   "source": []
  }
 ],
 "metadata": {
  "kernelspec": {
   "display_name": "Python 3",
   "language": "python",
   "name": "python3"
  },
  "language_info": {
   "codemirror_mode": {
    "name": "ipython",
    "version": 3
   },
   "file_extension": ".py",
   "mimetype": "text/x-python",
   "name": "python",
   "nbconvert_exporter": "python",
   "pygments_lexer": "ipython3",
   "version": "3.7.7"
  }
 },
 "nbformat": 4,
 "nbformat_minor": 4
}
